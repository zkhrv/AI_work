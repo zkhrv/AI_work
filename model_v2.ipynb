{
 "cells": [
  {
   "cell_type": "code",
   "execution_count": 1,
   "metadata": {},
   "outputs": [],
   "source": [
    "import pandas as pd\n",
    "from keras.models import Sequential\n",
    "from keras.layers import Dense, Embedding, LSTM, Dropout\n",
    "from keras.preprocessing.text import Tokenizer\n",
    "from keras.preprocessing.sequence import pad_sequences\n",
    "import matplotlib.pyplot as plt\n",
    "import seaborn as sns\n",
    "import nltk\n",
    "from nltk.corpus import stopwords\n",
    "from nltk.stem import SnowballStemmer\n",
    "import re\n",
    "from keras.regularizers import l2\n",
    "from sklearn.model_selection import train_test_split\n",
    "import numpy as np"
   ]
  },
  {
   "cell_type": "code",
   "execution_count": 2,
   "metadata": {},
   "outputs": [
    {
     "data": {
      "text/html": [
       "<div>\n",
       "<style scoped>\n",
       "    .dataframe tbody tr th:only-of-type {\n",
       "        vertical-align: middle;\n",
       "    }\n",
       "\n",
       "    .dataframe tbody tr th {\n",
       "        vertical-align: top;\n",
       "    }\n",
       "\n",
       "    .dataframe thead th {\n",
       "        text-align: right;\n",
       "    }\n",
       "</style>\n",
       "<table border=\"1\" class=\"dataframe\">\n",
       "  <thead>\n",
       "    <tr style=\"text-align: right;\">\n",
       "      <th></th>\n",
       "      <th>Category</th>\n",
       "      <th>Message</th>\n",
       "    </tr>\n",
       "  </thead>\n",
       "  <tbody>\n",
       "    <tr>\n",
       "      <th>0</th>\n",
       "      <td>ham</td>\n",
       "      <td>Go until jurong point, crazy.. Available only ...</td>\n",
       "    </tr>\n",
       "    <tr>\n",
       "      <th>1</th>\n",
       "      <td>ham</td>\n",
       "      <td>Ok lar... Joking wif u oni...</td>\n",
       "    </tr>\n",
       "    <tr>\n",
       "      <th>2</th>\n",
       "      <td>spam</td>\n",
       "      <td>Free entry in 2 a wkly comp to win FA Cup fina...</td>\n",
       "    </tr>\n",
       "    <tr>\n",
       "      <th>3</th>\n",
       "      <td>ham</td>\n",
       "      <td>U dun say so early hor... U c already then say...</td>\n",
       "    </tr>\n",
       "    <tr>\n",
       "      <th>4</th>\n",
       "      <td>ham</td>\n",
       "      <td>Nah I don't think he goes to usf, he lives aro...</td>\n",
       "    </tr>\n",
       "    <tr>\n",
       "      <th>...</th>\n",
       "      <td>...</td>\n",
       "      <td>...</td>\n",
       "    </tr>\n",
       "    <tr>\n",
       "      <th>5567</th>\n",
       "      <td>spam</td>\n",
       "      <td>This is the 2nd time we have tried 2 contact u...</td>\n",
       "    </tr>\n",
       "    <tr>\n",
       "      <th>5568</th>\n",
       "      <td>ham</td>\n",
       "      <td>Will ü b going to esplanade fr home?</td>\n",
       "    </tr>\n",
       "    <tr>\n",
       "      <th>5569</th>\n",
       "      <td>ham</td>\n",
       "      <td>Pity, * was in mood for that. So...any other s...</td>\n",
       "    </tr>\n",
       "    <tr>\n",
       "      <th>5570</th>\n",
       "      <td>ham</td>\n",
       "      <td>The guy did some bitching but I acted like i'd...</td>\n",
       "    </tr>\n",
       "    <tr>\n",
       "      <th>5571</th>\n",
       "      <td>ham</td>\n",
       "      <td>Rofl. Its true to its name</td>\n",
       "    </tr>\n",
       "  </tbody>\n",
       "</table>\n",
       "<p>5572 rows × 2 columns</p>\n",
       "</div>"
      ],
      "text/plain": [
       "     Category                                            Message\n",
       "0         ham  Go until jurong point, crazy.. Available only ...\n",
       "1         ham                      Ok lar... Joking wif u oni...\n",
       "2        spam  Free entry in 2 a wkly comp to win FA Cup fina...\n",
       "3         ham  U dun say so early hor... U c already then say...\n",
       "4         ham  Nah I don't think he goes to usf, he lives aro...\n",
       "...       ...                                                ...\n",
       "5567     spam  This is the 2nd time we have tried 2 contact u...\n",
       "5568      ham               Will ü b going to esplanade fr home?\n",
       "5569      ham  Pity, * was in mood for that. So...any other s...\n",
       "5570      ham  The guy did some bitching but I acted like i'd...\n",
       "5571      ham                         Rofl. Its true to its name\n",
       "\n",
       "[5572 rows x 2 columns]"
      ]
     },
     "execution_count": 2,
     "metadata": {},
     "output_type": "execute_result"
    }
   ],
   "source": [
    "df = pd.read_csv('Data.csv')\n",
    "df"
   ]
  },
  {
   "cell_type": "code",
   "execution_count": 22,
   "metadata": {},
   "outputs": [
    {
     "data": {
      "image/png": "[encoded data removed]",
      "text/plain": [
       "<Figure size 1200x400 with 1 Axes>"
      ]
     },
     "metadata": {},
     "output_type": "display_data"
    }
   ],
   "source": [
    "count_text = df['Category'].value_counts()\n",
    "plt.figure(figsize=(12,4))\n",
    "sns.barplot(count_text, alpha=1, palette=['blue', \"red\"])\n",
    "plt.ylabel('Число наблюдений', fontsize=12)\n",
    "plt.xlabel('Категория', fontsize=12)\n",
    "plt.xticks(rotation=90)\n",
    "plt.show()\n",
    "\n",
    "import warnings\n",
    "warnings.simplefilter(action='ignore', category=FutureWarning) #отключения предупреждения"
   ]
  },
  {
   "cell_type": "code",
   "execution_count": 4,
   "metadata": {},
   "outputs": [
    {
     "name": "stderr",
     "output_type": "stream",
     "text": [
      "[nltk_data] Downloading package stopwords to\n",
      "[nltk_data]     C:\\Users\\user\\AppData\\Roaming\\nltk_data...\n",
      "[nltk_data]   Package stopwords is already up-to-date!\n"
     ]
    }
   ],
   "source": [
    "nltk.download('stopwords')\n",
    "stop_words = stopwords.words(\"english\")\n",
    "stemmer = SnowballStemmer('english')"
   ]
  },
  {
   "cell_type": "code",
   "execution_count": 5,
   "metadata": {},
   "outputs": [],
   "source": [
    "def preprocess_text(text):\n",
    "    text = text.lower()\n",
    "    text = re.sub(r'\\W', ' ', text)\n",
    "    text = re.sub(r'\\s+[a-zA-Z]\\s+', ' ', text)\n",
    "    text = re.sub(r'\\s+', ' ', text, flags=re.I)\n",
    "    text = ' '.join([word for word in text.split() if word not in stop_words])\n",
    "    text = ' '.join([stemmer.stem(word) for word in text.split()])\n",
    "    return text"
   ]
  },
  {
   "cell_type": "code",
   "execution_count": 6,
   "metadata": {},
   "outputs": [],
   "source": [
    "df['Message'] = df['Message'].apply(preprocess_text)"
   ]
  },
  {
   "cell_type": "code",
   "execution_count": 7,
   "metadata": {},
   "outputs": [],
   "source": [
    "category = pd.get_dummies(df['Category']).values\n",
    "message = df['Message'].values"
   ]
  },
  {
   "cell_type": "code",
   "execution_count": 27,
   "metadata": {},
   "outputs": [],
   "source": [
    "tokenizer = Tokenizer(num_words=2000, char_level=False, lower=True)\n",
    "tokenizer.fit_on_texts(message)\n",
    "sequences = tokenizer.texts_to_sequences(message)\n",
    "data = pad_sequences(sequences, maxlen=500)"
   ]
  },
  {
   "cell_type": "code",
   "execution_count": 28,
   "metadata": {},
   "outputs": [],
   "source": [
    "train_data, test_data, train_category, test_category = train_test_split(data, category, test_size=0.2, random_state=50) "
   ]
  },
  {
   "cell_type": "code",
   "execution_count": 31,
   "metadata": {},
   "outputs": [],
   "source": [
    "model = Sequential()\n",
    "model.add(Embedding(len(tokenizer.word_index)+1, 32, input_length=500))\n",
    "model.add(LSTM(16, dropout=0.4, recurrent_dropout=0.1))\n",
    "model.add(Dense(2, activation='softmax'))\n",
    "model.compile(loss='categorical_crossentropy', optimizer='adam', metrics=['accuracy'])"
   ]
  },
  {
   "cell_type": "code",
   "execution_count": 32,
   "metadata": {},
   "outputs": [
    {
     "name": "stdout",
     "output_type": "stream",
     "text": [
      "Epoch 1/20\n",
      "112/112 [==============================] - 26s 211ms/step - loss: 0.3471 - accuracy: 0.8763 - val_loss: 0.1511 - val_accuracy: 0.9451\n",
      "Epoch 2/20\n",
      "112/112 [==============================] - 24s 214ms/step - loss: 0.1023 - accuracy: 0.9764 - val_loss: 0.0776 - val_accuracy: 0.9865\n",
      "Epoch 3/20\n",
      "112/112 [==============================] - 24s 213ms/step - loss: 0.0534 - accuracy: 0.9910 - val_loss: 0.0583 - val_accuracy: 0.9899\n",
      "Epoch 4/20\n",
      "112/112 [==============================] - 24s 214ms/step - loss: 0.0353 - accuracy: 0.9938 - val_loss: 0.0507 - val_accuracy: 0.9888\n",
      "Epoch 5/20\n",
      "112/112 [==============================] - 24s 212ms/step - loss: 0.0245 - accuracy: 0.9955 - val_loss: 0.0492 - val_accuracy: 0.9922\n",
      "Epoch 6/20\n",
      "112/112 [==============================] - 23s 209ms/step - loss: 0.0169 - accuracy: 0.9969 - val_loss: 0.0504 - val_accuracy: 0.9888\n",
      "Epoch 7/20\n",
      "112/112 [==============================] - 23s 209ms/step - loss: 0.0127 - accuracy: 0.9978 - val_loss: 0.0495 - val_accuracy: 0.9888\n",
      "Epoch 8/20\n",
      "112/112 [==============================] - 23s 208ms/step - loss: 0.0098 - accuracy: 0.9986 - val_loss: 0.0536 - val_accuracy: 0.9910\n",
      "Epoch 9/20\n",
      "112/112 [==============================] - 23s 209ms/step - loss: 0.0088 - accuracy: 0.9983 - val_loss: 0.0592 - val_accuracy: 0.9854\n",
      "Epoch 10/20\n",
      "112/112 [==============================] - 23s 208ms/step - loss: 0.0074 - accuracy: 0.9983 - val_loss: 0.0636 - val_accuracy: 0.9865\n",
      "Epoch 11/20\n",
      "112/112 [==============================] - 23s 209ms/step - loss: 0.0065 - accuracy: 0.9989 - val_loss: 0.0661 - val_accuracy: 0.9865\n",
      "Epoch 12/20\n",
      "112/112 [==============================] - 23s 209ms/step - loss: 0.0061 - accuracy: 0.9989 - val_loss: 0.0665 - val_accuracy: 0.9854\n",
      "Epoch 13/20\n",
      "112/112 [==============================] - 23s 210ms/step - loss: 0.0046 - accuracy: 0.9994 - val_loss: 0.0699 - val_accuracy: 0.9865\n",
      "Epoch 14/20\n",
      "112/112 [==============================] - 23s 208ms/step - loss: 0.0038 - accuracy: 0.9992 - val_loss: 0.0756 - val_accuracy: 0.9865\n",
      "Epoch 15/20\n",
      "112/112 [==============================] - 23s 209ms/step - loss: 0.0036 - accuracy: 0.9992 - val_loss: 0.0772 - val_accuracy: 0.9865\n",
      "Epoch 16/20\n",
      "112/112 [==============================] - 23s 209ms/step - loss: 0.0033 - accuracy: 0.9992 - val_loss: 0.0788 - val_accuracy: 0.9865\n",
      "Epoch 17/20\n",
      "112/112 [==============================] - 23s 209ms/step - loss: 0.0039 - accuracy: 0.9992 - val_loss: 0.0829 - val_accuracy: 0.9865\n",
      "Epoch 18/20\n",
      "112/112 [==============================] - 23s 208ms/step - loss: 0.0029 - accuracy: 0.9992 - val_loss: 0.0834 - val_accuracy: 0.9865\n",
      "Epoch 19/20\n",
      "112/112 [==============================] - 23s 209ms/step - loss: 0.0025 - accuracy: 0.9992 - val_loss: 0.0848 - val_accuracy: 0.9865\n",
      "Epoch 20/20\n",
      "112/112 [==============================] - 24s 211ms/step - loss: 0.0033 - accuracy: 0.9992 - val_loss: 0.0856 - val_accuracy: 0.9821\n"
     ]
    }
   ],
   "source": [
    "history = model.fit(train_data, train_category, validation_split=0.2, epochs=20, verbose=1)"
   ]
  },
  {
   "cell_type": "code",
   "execution_count": 37,
   "metadata": {},
   "outputs": [
    {
     "name": "stdout",
     "output_type": "stream",
     "text": [
      "35/35 [==============================] - 1s 23ms/step - loss: 0.0448 - accuracy: 0.9910\n",
      "Ошибка: 0.04475581645965576\n",
      "Точность: 0.9910314083099365\n"
     ]
    }
   ],
   "source": [
    "loss, accuracy = model.evaluate(test_data, test_category, verbose=1)\n",
    "\n",
    "print(f\"Ошибка: {loss}\")\n",
    "print(f\"Точность: {accuracy}\")"
   ]
  },
  {
   "cell_type": "code",
   "execution_count": 38,
   "metadata": {},
   "outputs": [
    {
     "name": "stdout",
     "output_type": "stream",
     "text": [
      "35/35 [==============================] - 1s 23ms/step\n",
      "Число записей: 1115\n",
      "Число не совпадающих результатов: 10\n",
      "Процент ошибочных предсказаний: 0.8968609865470852\n"
     ]
    }
   ],
   "source": [
    "predictions = model.predict(test_data)\n",
    "predictions = np.argmax(predictions, axis=-1)\n",
    "\n",
    "results = pd.DataFrame({\n",
    "    'True Label': np.argmax(test_category, axis=-1),\n",
    "    'Predicted Label': predictions\n",
    "})\n",
    "\n",
    "total_records = len(results)\n",
    "mismatch_records = len(results[results['True Label'] != results['Predicted Label']])\n",
    "percent_loss = mismatch_records / total_records * 100\n",
    "\n",
    "print(f'Число записей: {total_records}')\n",
    "print(f'Число не совпадающих результатов: {mismatch_records}')\n",
    "print(f'Процент ошибочных предсказаний: {percent_loss}')\n"
   ]
  },
  {
   "cell_type": "code",
   "execution_count": 39,
   "metadata": {},
   "outputs": [
    {
     "data": {
      "image/png": "[encoded data removed]",
      "text/plain": [
       "<Figure size 640x480 with 1 Axes>"
      ]
     },
     "metadata": {},
     "output_type": "display_data"
    }
   ],
   "source": [
    "plt.plot(history.history['loss'])\n",
    "plt.plot(history.history['val_loss'])\n",
    "plt.title('Графики ошибки')\n",
    "plt.ylabel('Ошибка')\n",
    "plt.xlabel('Эпоха')\n",
    "plt.legend(['Train', 'Test'], loc='upper right')\n",
    "plt.show()"
   ]
  },
  {
   "cell_type": "code",
   "execution_count": 40,
   "metadata": {},
   "outputs": [
    {
     "data": {
      "image/png": "[encoded data removed]",
      "text/plain": [
       "<Figure size 640x480 with 1 Axes>"
      ]
     },
     "metadata": {},
     "output_type": "display_data"
    }
   ],
   "source": [
    "plt.plot(history.history['accuracy'])\n",
    "plt.plot(history.history['val_accuracy'])\n",
    "plt.title('Графики точности')\n",
    "plt.ylabel('Точность')\n",
    "plt.xlabel('Эпоха')\n",
    "plt.legend(['Train', 'Test'], loc='upper right')\n",
    "plt.show()"
   ]
  },
  {
   "cell_type": "code",
   "execution_count": 44,
   "metadata": {},
   "outputs": [
    {
     "name": "stdout",
     "output_type": "stream",
     "text": [
      "Model: \"sequential_4\"\n",
      "_________________________________________________________________\n",
      " Layer (type)                Output Shape              Param #   \n",
      "=================================================================\n",
      " embedding_4 (Embedding)     (None, 500, 32)           232736    \n",
      "                                                                 \n",
      " lstm_4 (LSTM)               (None, 16)                3136      \n",
      "                                                                 \n",
      " dense_4 (Dense)             (None, 2)                 34        \n",
      "                                                                 \n",
      "=================================================================\n",
      "Total params: 235906 (921.51 KB)\n",
      "Trainable params: 235906 (921.51 KB)\n",
      "Non-trainable params: 0 (0.00 Byte)\n",
      "_________________________________________________________________\n"
     ]
    }
   ],
   "source": [
    "model.save('model11l.h5')\n",
    "model.summary()"
   ]
  },
  {
   "cell_type": "markdown",
   "metadata": {},
   "source": [
    "Строки данных, которые можно поместить в датасет 'Test.csv' для проверки работы модели представлены в ячейке ниже\n",
    "\n",
    "Данные записи были написаны исходя из стиля записей датасета, на котором обучалась сеть\n",
    "ВАЖНО!!! Записи помещать по одной, имитирую работу фильтра электронной почты (на почту приходит не десяток писем, а одно и оно проверяется)"
   ]
  },
  {
   "cell_type": "code",
   "execution_count": 47,
   "metadata": {},
   "outputs": [],
   "source": [
    "from keras.models import load_model"
   ]
  },
  {
   "cell_type": "code",
   "execution_count": 50,
   "metadata": {},
   "outputs": [
    {
     "name": "stdout",
     "output_type": "stream",
     "text": [
      "1/1 [==============================] - 0s 210ms/step\n",
      "Истинная метка: spam, Предсказанная метка: spam\n"
     ]
    }
   ],
   "source": [
    "'''\n",
    "1. spam,Get a free pass to our monthly lottery draw! Text LOTTO to 86121 to participate (standard text rate). T&C's apply 08452810077over18's\n",
    "2. spam,\"FreeMsg Hi there it's been a while! Fancy some fun? Reply with YES if you're in! XxX standard charges to send ?1.50 to receive\"'s\n",
    "3. spam,Win a chance to attend the Premier League final! Text PL to 81221 to get your entry question (standard text rate). T&C's apply 08452810076over18's\n",
    "4. ham,\"Head to the marina bay, amazing.. Only at orchard n wonderful world la e food court... Cinema there got more wat\"\n",
    "5. ham,Alright mate... Just pulling your leg\n",
    "5. ham,\"Go till the end of east coast park, wild.. Only in little india n fantastic world la e hawker centre... Theatre there got more wat..\"\n",
    "'''\n",
    "\n",
    "model = load_model('model11l.h5')\n",
    "\n",
    "df = pd.read_csv('Test.csv')\n",
    "\n",
    "category_df = pd.get_dummies(df['Category'])\n",
    "category = category_df.values\n",
    "message = df['Message'].apply(preprocess_text).values\n",
    "\n",
    "tokenizer = Tokenizer(num_words=2000, char_level=False, lower=True)\n",
    "tokenizer.fit_on_texts(message)\n",
    "sequences = tokenizer.texts_to_sequences(message)\n",
    "data = pad_sequences(sequences, maxlen=500)\n",
    "\n",
    "predictions = model.predict(data)\n",
    "predictions = np.argmax(predictions, axis=-1)\n",
    "\n",
    "labels = category_df.columns.values\n",
    "\n",
    "for i in range(len(predictions)):\n",
    "    true_label = labels[np.argmax(category[i])]\n",
    "    predicted_label = labels[predictions[i]]\n",
    "    \n",
    "    print(f'Истинная метка: {true_label}, Предсказанная метка: {predicted_label}')"
   ]
  }
 ],
 "metadata": {
  "kernelspec": {
   "display_name": ".venv",
   "language": "python",
   "name": "python3"
  },
  "language_info": {
   "codemirror_mode": {
    "name": "ipython",
    "version": 3
   },
   "file_extension": ".py",
   "mimetype": "text/x-python",
   "name": "python",
   "nbconvert_exporter": "python",
   "pygments_lexer": "ipython3",
   "version": "3.8.10"
  }
 },
 "nbformat": 4,
 "nbformat_minor": 2
}
