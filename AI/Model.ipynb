{
 "cells": [
  {
   "cell_type": "code",
   "execution_count": 3,
   "metadata": {},
   "outputs": [],
   "source": [
    "import pandas as pd\n",
    "from keras.models import Sequential\n",
    "from keras.layers import Dense, Embedding, LSTM, Dropout\n",
    "from keras.preprocessing.text import Tokenizer\n",
    "from keras.preprocessing.sequence import pad_sequences\n",
    "import matplotlib.pyplot as plt\n",
    "import nltk\n",
    "from nltk.corpus import stopwords\n",
    "from nltk.stem import SnowballStemmer\n",
    "import re\n",
    "from keras.regularizers import l2"
   ]
  },
  {
   "cell_type": "code",
   "execution_count": 40,
   "metadata": {},
   "outputs": [],
   "source": [
    "df = pd.read_csv('Data.csv')"
   ]
  },
  {
   "cell_type": "code",
   "execution_count": 41,
   "metadata": {},
   "outputs": [],
   "source": [
    "replace_dict = {\n",
    "    \"ham\": 0,\n",
    "    \"spam\": 1\n",
    "}"
   ]
  },
  {
   "cell_type": "code",
   "execution_count": 42,
   "metadata": {},
   "outputs": [
    {
     "data": {
      "text/html": [
       "<div>\n",
       "<style scoped>\n",
       "    .dataframe tbody tr th:only-of-type {\n",
       "        vertical-align: middle;\n",
       "    }\n",
       "\n",
       "    .dataframe tbody tr th {\n",
       "        vertical-align: top;\n",
       "    }\n",
       "\n",
       "    .dataframe thead th {\n",
       "        text-align: right;\n",
       "    }\n",
       "</style>\n",
       "<table border=\"1\" class=\"dataframe\">\n",
       "  <thead>\n",
       "    <tr style=\"text-align: right;\">\n",
       "      <th></th>\n",
       "      <th>Category</th>\n",
       "      <th>Message</th>\n",
       "    </tr>\n",
       "  </thead>\n",
       "  <tbody>\n",
       "    <tr>\n",
       "      <th>0</th>\n",
       "      <td>0</td>\n",
       "      <td>Go until jurong point, crazy.. Available only ...</td>\n",
       "    </tr>\n",
       "    <tr>\n",
       "      <th>1</th>\n",
       "      <td>0</td>\n",
       "      <td>Ok lar... Joking wif u oni...</td>\n",
       "    </tr>\n",
       "    <tr>\n",
       "      <th>2</th>\n",
       "      <td>1</td>\n",
       "      <td>Free entry in 2 a wkly comp to win FA Cup fina...</td>\n",
       "    </tr>\n",
       "    <tr>\n",
       "      <th>3</th>\n",
       "      <td>0</td>\n",
       "      <td>U dun say so early hor... U c already then say...</td>\n",
       "    </tr>\n",
       "    <tr>\n",
       "      <th>4</th>\n",
       "      <td>0</td>\n",
       "      <td>Nah I don't think he goes to usf, he lives aro...</td>\n",
       "    </tr>\n",
       "    <tr>\n",
       "      <th>...</th>\n",
       "      <td>...</td>\n",
       "      <td>...</td>\n",
       "    </tr>\n",
       "    <tr>\n",
       "      <th>5567</th>\n",
       "      <td>1</td>\n",
       "      <td>This is the 2nd time we have tried 2 contact u...</td>\n",
       "    </tr>\n",
       "    <tr>\n",
       "      <th>5568</th>\n",
       "      <td>0</td>\n",
       "      <td>Will ü b going to esplanade fr home?</td>\n",
       "    </tr>\n",
       "    <tr>\n",
       "      <th>5569</th>\n",
       "      <td>0</td>\n",
       "      <td>Pity, * was in mood for that. So...any other s...</td>\n",
       "    </tr>\n",
       "    <tr>\n",
       "      <th>5570</th>\n",
       "      <td>0</td>\n",
       "      <td>The guy did some bitching but I acted like i'd...</td>\n",
       "    </tr>\n",
       "    <tr>\n",
       "      <th>5571</th>\n",
       "      <td>0</td>\n",
       "      <td>Rofl. Its true to its name</td>\n",
       "    </tr>\n",
       "  </tbody>\n",
       "</table>\n",
       "<p>5572 rows × 2 columns</p>\n",
       "</div>"
      ],
      "text/plain": [
       "      Category                                            Message\n",
       "0            0  Go until jurong point, crazy.. Available only ...\n",
       "1            0                      Ok lar... Joking wif u oni...\n",
       "2            1  Free entry in 2 a wkly comp to win FA Cup fina...\n",
       "3            0  U dun say so early hor... U c already then say...\n",
       "4            0  Nah I don't think he goes to usf, he lives aro...\n",
       "...        ...                                                ...\n",
       "5567         1  This is the 2nd time we have tried 2 contact u...\n",
       "5568         0               Will ü b going to esplanade fr home?\n",
       "5569         0  Pity, * was in mood for that. So...any other s...\n",
       "5570         0  The guy did some bitching but I acted like i'd...\n",
       "5571         0                         Rofl. Its true to its name\n",
       "\n",
       "[5572 rows x 2 columns]"
      ]
     },
     "execution_count": 42,
     "metadata": {},
     "output_type": "execute_result"
    }
   ],
   "source": [
    "df[\"Category\"] = df[\"Category\"].replace(replace_dict) \n",
    "df"
   ]
  },
  {
   "cell_type": "code",
   "execution_count": 44,
   "metadata": {},
   "outputs": [],
   "source": [
    "df.to_csv('NewData.csv')"
   ]
  },
  {
   "cell_type": "code",
   "execution_count": 45,
   "metadata": {},
   "outputs": [],
   "source": [
    "df = pd.read_csv('NewData.csv')"
   ]
  },
  {
   "cell_type": "code",
   "execution_count": 20,
   "metadata": {},
   "outputs": [
    {
     "name": "stderr",
     "output_type": "stream",
     "text": [
      "[nltk_data] Downloading package stopwords to\n",
      "[nltk_data]     C:\\Users\\Иван\\AppData\\Roaming\\nltk_data...\n",
      "[nltk_data]   Package stopwords is already up-to-date!\n"
     ]
    }
   ],
   "source": [
    "nltk.download('stopwords')\n",
    "stop_words = stopwords.words(\"english\")\n",
    "stemmer = SnowballStemmer('english')"
   ]
  },
  {
   "cell_type": "code",
   "execution_count": 21,
   "metadata": {},
   "outputs": [],
   "source": [
    "def preprocess_text(text):\n",
    "    text = text.lower()\n",
    "    text = re.sub(r'\\W', ' ', text)\n",
    "    text = re.sub(r'\\s+[a-zA-Z]\\s+', ' ', text)\n",
    "    text = re.sub(r'\\s+', ' ', text, flags=re.I)\n",
    "    text = ' '.join([word for word in text.split() if word not in stop_words])\n",
    "    text = ' '.join([stemmer.stem(word) for word in text.split()])\n",
    "    return text"
   ]
  },
  {
   "cell_type": "code",
   "execution_count": 22,
   "metadata": {},
   "outputs": [],
   "source": [
    "df['Message'] = df['Message'].apply(preprocess_text)\n",
    "\n",
    "category = df['Category'].values\n",
    "message = df['Message'].values"
   ]
  },
  {
   "cell_type": "code",
   "execution_count": 23,
   "metadata": {},
   "outputs": [],
   "source": [
    "tokenizer = Tokenizer(num_words=None, char_level=True, lower=False)\n",
    "tokenizer.fit_on_texts(message)\n",
    "sequences = tokenizer.texts_to_sequences(message)"
   ]
  },
  {
   "cell_type": "code",
   "execution_count": 24,
   "metadata": {},
   "outputs": [],
   "source": [
    "data = pad_sequences(sequences, maxlen=600)"
   ]
  },
  {
   "cell_type": "code",
   "execution_count": 36,
   "metadata": {},
   "outputs": [],
   "source": [
    "model = Sequential()\n",
    "model.add(Embedding(len(tokenizer.word_index)+1, 10, input_length=600))\n",
    "model.add(LSTM(20, dropout=0.1, recurrent_dropout=0.5))\n",
    "model.add(Dense(1, activation='sigmoid'))"
   ]
  },
  {
   "cell_type": "code",
   "execution_count": 37,
   "metadata": {},
   "outputs": [],
   "source": [
    "model.compile(loss='binary_crossentropy', optimizer='adam', metrics=['accuracy'])"
   ]
  },
  {
   "cell_type": "code",
   "execution_count": 38,
   "metadata": {},
   "outputs": [
    {
     "name": "stdout",
     "output_type": "stream",
     "text": [
      "Epoch 1/20\n",
      "140/140 [==============================] - 56s 378ms/step - loss: 0.3854 - accuracy: 0.8748 - val_loss: 0.2268 - val_accuracy: 0.9247\n",
      "Epoch 2/20\n",
      "140/140 [==============================] - 54s 387ms/step - loss: 0.1423 - accuracy: 0.9632 - val_loss: 0.1299 - val_accuracy: 0.9659\n",
      "Epoch 3/20\n",
      "140/140 [==============================] - 53s 377ms/step - loss: 0.1096 - accuracy: 0.9733 - val_loss: 0.1058 - val_accuracy: 0.9713\n",
      "Epoch 4/20\n",
      "140/140 [==============================] - 54s 386ms/step - loss: 0.1030 - accuracy: 0.9758 - val_loss: 0.0990 - val_accuracy: 0.9767\n",
      "Epoch 5/20\n",
      "140/140 [==============================] - 53s 378ms/step - loss: 0.0953 - accuracy: 0.9769 - val_loss: 0.1031 - val_accuracy: 0.9749\n",
      "Epoch 6/20\n",
      "140/140 [==============================] - 53s 378ms/step - loss: 0.0896 - accuracy: 0.9773 - val_loss: 0.1145 - val_accuracy: 0.9731\n",
      "Epoch 7/20\n",
      "140/140 [==============================] - 53s 381ms/step - loss: 0.0880 - accuracy: 0.9780 - val_loss: 0.1041 - val_accuracy: 0.9749\n",
      "Epoch 8/20\n",
      "140/140 [==============================] - 54s 387ms/step - loss: 0.0847 - accuracy: 0.9782 - val_loss: 0.0925 - val_accuracy: 0.9749\n",
      "Epoch 9/20\n",
      "140/140 [==============================] - 54s 384ms/step - loss: 0.0867 - accuracy: 0.9780 - val_loss: 0.1025 - val_accuracy: 0.9758\n",
      "Epoch 10/20\n",
      "140/140 [==============================] - 53s 381ms/step - loss: 0.0896 - accuracy: 0.9771 - val_loss: 0.0863 - val_accuracy: 0.9749\n",
      "Epoch 11/20\n",
      "140/140 [==============================] - 53s 380ms/step - loss: 0.0845 - accuracy: 0.9789 - val_loss: 0.1000 - val_accuracy: 0.9749\n",
      "Epoch 12/20\n",
      "140/140 [==============================] - 53s 380ms/step - loss: 0.0844 - accuracy: 0.9780 - val_loss: 0.1034 - val_accuracy: 0.9758\n",
      "Epoch 13/20\n",
      "140/140 [==============================] - 53s 379ms/step - loss: 0.0800 - accuracy: 0.9798 - val_loss: 0.0842 - val_accuracy: 0.9722\n",
      "Epoch 14/20\n",
      "140/140 [==============================] - 53s 381ms/step - loss: 0.0801 - accuracy: 0.9780 - val_loss: 0.0885 - val_accuracy: 0.9758\n",
      "Epoch 15/20\n",
      "140/140 [==============================] - 54s 386ms/step - loss: 0.0794 - accuracy: 0.9798 - val_loss: 0.0936 - val_accuracy: 0.9758\n",
      "Epoch 16/20\n",
      "140/140 [==============================] - 53s 378ms/step - loss: 0.0803 - accuracy: 0.9791 - val_loss: 0.0919 - val_accuracy: 0.9749\n",
      "Epoch 17/20\n",
      "140/140 [==============================] - 53s 380ms/step - loss: 0.0784 - accuracy: 0.9800 - val_loss: 0.0873 - val_accuracy: 0.9749\n",
      "Epoch 18/20\n",
      "140/140 [==============================] - 54s 385ms/step - loss: 0.0909 - accuracy: 0.9731 - val_loss: 0.0984 - val_accuracy: 0.9731\n",
      "Epoch 19/20\n",
      "140/140 [==============================] - 52s 375ms/step - loss: 0.0763 - accuracy: 0.9780 - val_loss: 0.0909 - val_accuracy: 0.9749\n",
      "Epoch 20/20\n",
      "140/140 [==============================] - 54s 384ms/step - loss: 0.0764 - accuracy: 0.9789 - val_loss: 0.0971 - val_accuracy: 0.9758\n"
     ]
    }
   ],
   "source": [
    "history = model.fit(data, category, validation_split=0.2, epochs=20, verbose=1)"
   ]
  },
  {
   "cell_type": "code",
   "execution_count": 39,
   "metadata": {},
   "outputs": [
    {
     "data": {
      "image/png": "[encoded data removed]",
      "text/plain": [
       "<Figure size 640x480 with 1 Axes>"
      ]
     },
     "metadata": {},
     "output_type": "display_data"
    }
   ],
   "source": [
    "plt.plot(history.history['loss'])\n",
    "plt.plot(history.history['val_loss'])\n",
    "#plt.plot(history.history['accuracy'])\n",
    "#plt.plot(history.history['val_accuracy'])\n",
    "plt.title('Model loss')\n",
    "plt.ylabel('Loss')\n",
    "plt.xlabel('Epoch')\n",
    "plt.legend(['Train', 'Test'], loc='upper right')\n",
    "plt.show()"
   ]
  },
  {
   "cell_type": "code",
   "execution_count": null,
   "metadata": {},
   "outputs": [],
   "source": []
  }
 ],
 "metadata": {
  "kernelspec": {
   "display_name": "Python 3",
   "language": "python",
   "name": "python3"
  },
  "language_info": {
   "codemirror_mode": {
    "name": "ipython",
    "version": 3
   },
   "file_extension": ".py",
   "mimetype": "text/x-python",
   "name": "python",
   "nbconvert_exporter": "python",
   "pygments_lexer": "ipython3",
   "version": "3.8.0"
  }
 },
 "nbformat": 4,
 "nbformat_minor": 2
}
